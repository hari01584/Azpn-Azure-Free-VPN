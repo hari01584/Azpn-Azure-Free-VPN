{
 "cells": [
  {
   "cell_type": "markdown",
   "metadata": {},
   "source": [
    "## Remove resource group\n",
    "Removes all changes made by azpn until now!"
   ]
  },
  {
   "cell_type": "code",
   "execution_count": 1,
   "metadata": {},
   "outputs": [],
   "source": [
    "RESOURCE_GROUP_NAME = \"azpn_group\""
   ]
  },
  {
   "cell_type": "code",
   "execution_count": 2,
   "metadata": {},
   "outputs": [],
   "source": [
    "import sys\n",
    "import subprocess\n",
    "\n",
    "def execute(command):\n",
    "    process = subprocess.Popen(command, shell=True, stdout=subprocess.PIPE, stderr=subprocess.STDOUT)\n",
    "    # Poll process for new output until finished\n",
    "    r = \"\"\n",
    "    while True:\n",
    "        nextline = process.stdout.readline()\n",
    "        if not nextline and process.poll() is not None:\n",
    "            break\n",
    "        r += nextline.decode(\"utf-8\") .strip() + \" \"\n",
    "        sys.stdout.write(str(nextline))\n",
    "        sys.stdout.flush()\n",
    "\n",
    "    output = process.communicate()[0]\n",
    "    exitCode = process.returncode\n",
    "\n",
    "    if (exitCode == 0):\n",
    "        return r\n",
    "    else:\n",
    "        print(\"error?\")\n",
    "        \n",
    "        \n",
    "from IPython.display import Markdown, display\n",
    "def printmd(string):\n",
    "    display(Markdown(string))\n",
    "    \n",
    "def generate_temp_password(length):\n",
    "    if not isinstance(length, int) or length < 8:\n",
    "        raise ValueError(\"temp password must have positive length\")\n",
    "\n",
    "    chars = \"#@ABCDEFGHJKLMNPQRSTUVWXYZ23456789abcdefghijklmnopqrstuvwxyz@$\"\n",
    "    from os import urandom\n",
    "\n",
    "    # original Python 2 (urandom returns str)\n",
    "    # return \"\".join(chars[ord(c) % len(chars)] for c in urandom(length))\n",
    "\n",
    "    # Python 3 (urandom returns bytes)\n",
    "    return \"\".join(chars[c % len(chars)] for c in urandom(length))"
   ]
  },
  {
   "cell_type": "markdown",
   "metadata": {},
   "source": [
    "## Login\n",
    "Firstly login to azure cli :)"
   ]
  },
  {
   "cell_type": "code",
   "execution_count": 3,
   "metadata": {},
   "outputs": [
    {
     "name": "stdout",
     "output_type": "stream",
     "text": [
      "WARNING: The default web browser has been opened at https://login.microsoftonline.com/organizations/oauth2/v2.0/authorize. Please continue the login in the web browser. If no web browser is available or if the web browser fails to open, use device code flow with `az login --use-device-code`.\n",
      "CloudName    HomeTenantId                          IsDefault    Name                State    TenantId\n",
      "-----------  ------------------------------------  -----------  ------------------  -------  ------------------------------------\n",
      "AzureCloud   611eb846-2373-4df4-9c07-cfe7dd7973bf  True         Azure for Students  Enabled  611eb846-2373-4df4-9c07-cfe7dd7973bf\n"
     ]
    }
   ],
   "source": [
    "x = execute(\"az login\")\n",
    "if(\"Azure for Students\" not in x):\n",
    "    printmd(\"**Wrong account? Couldn't find azure students plan or cannot login to service, try again!**\")"
   ]
  },
  {
   "cell_type": "markdown",
   "metadata": {},
   "source": [
    "### Finally remove the resource group"
   ]
  },
  {
   "cell_type": "code",
   "execution_count": 5,
   "metadata": {},
   "outputs": [
    {
     "name": "stdout",
     "output_type": "stream",
     "text": [
      "az group delete --name azpn_group --yes\n"
     ]
    }
   ],
   "source": [
    "c = 'az group delete --name %s --yes'%(RESOURCE_GROUP_NAME)\n",
    "print(c)\n",
    "x = execute(c)"
   ]
  }
 ],
 "metadata": {
  "kernelspec": {
   "display_name": "Python 3",
   "language": "python",
   "name": "python3"
  },
  "language_info": {
   "codemirror_mode": {
    "name": "ipython",
    "version": 3
   },
   "file_extension": ".py",
   "mimetype": "text/x-python",
   "name": "python",
   "nbconvert_exporter": "python",
   "pygments_lexer": "ipython3",
   "version": "3.8.5"
  }
 },
 "nbformat": 4,
 "nbformat_minor": 4
}
